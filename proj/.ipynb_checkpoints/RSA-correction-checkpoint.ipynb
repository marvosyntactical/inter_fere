{
 "cells": [
  {
   "cell_type": "markdown",
   "metadata": {},
   "source": [
    "# Understanding Disagreements using RSA\n",
    "\n",
    "---\n",
    "This notebook is intended to be a 1:1 adaptation of the [RSA-Hyperbole Pyro Example Notebook](http://pyro.ai/examples/RSA-hyperbole.html) for the working example\n",
    "\n",
    "It is also meant to serve as a functional (as opposed to object oriented) but otherwise identical implementation as the one in comp_implt.py\n",
    "\n",
    "---\n",
    "    <world knowledge> \"§ 14-309.8.  Limit on sessions. The number of sessions of bingo conducted or sponsored by an exempt organization shall be limited to two sessions per week and such sessions must not exceed a period of five hours each per session.\" [US NC legislation](https://www.ncleg.net/EnactedLegislation/Statutes/HTML/ByArticle/Chapter_14/Article_37.html)\n",
    "    \n",
    "    <prosecution> \"The defendant played at the bingo event for 7 hours straight.\"\n",
    "    <defense> \"At the mayfair.\"\n",
    "\n",
    "---\n",
    "\n",
    "\n",
    "Correcting a specific detail of what someone said is a common use of language possibly requiring logical inference during interpretation. I extend the RSA Model as used in [the Pyro Example](http://pyro.ai/examples/RSA-hyperbole.html) to include a logical theorem prover and allow non-literal probabilistic interpretation of corrections."
   ]
  },
  {
   "cell_type": "code",
   "execution_count": 21,
   "metadata": {},
   "outputs": [],
   "source": [
    "#first some imports\n",
    "import torch\n",
    "torch.set_default_dtype(torch.float64)  # double precision for numerical stability\n",
    "\n",
    "import collections\n",
    "import argparse\n",
    "\n",
    "import pyro\n",
    "import pyro.distributions as dist\n",
    "import pyro.poutine as poutine\n",
    "\n",
    "from search_inference import factor, memoize\n",
    "from phrasal import *\n",
    "from helpers import *\n",
    "rpc = wrapped_rpc"
   ]
  },
  {
   "cell_type": "markdown",
   "metadata": {},
   "source": [
    "The domain for this example will be beliefs consisting of beliefs in first order logic form. More specifically, we will use a Neo-Davidsonian Event representation, so the event\n",
    "\n",
    "    The chicken crossed the road at an intersection.\n",
    "is normalized to:\n",
    "\n",
    "    exists e. cross(e, chicken, road) & agn(e, chicken) & pat(e, road) & loc(e, intersection)\n",
    "    \n",
    " \n",
    "This representation lends itself both to logical inference about meaning and is compositionally built up so, associated attributes can be added together.\n",
    "The implementation comes in the form a phrase class that provides an elementary cost attribute and builds up phrases incrementally from constituents. \n",
    "Priors here could be adapted from experimental data."
   ]
  },
  {
   "cell_type": "markdown",
   "metadata": {},
   "source": [
    "In the example, we are in court after Brutus murdered Caesar; two parties have different beliefs about how the event went down, one side first makes a statement how the event went down and then the other side interrupts (or decides not to). To avoid confusion it should be emphasized that the first person is the _Listener_ and the second person is the _Speaker_ as the Speech Act in focus is the correction.\n",
    "\n",
    "\n",
    "A bit of prior setup is needed for this before we can turn to the RSA model. The world knowledge is provided in a list of FOL expressions. $k_{1-4}$ are specific conditions for punishment."
   ]
  },
  {
   "cell_type": "code",
   "execution_count": 22,
   "metadata": {},
   "outputs": [],
   "source": [
    "import nltk\n",
    "expr = nltk.sem.Expression.fromstring\n",
    "\n",
    "k1 = expr(\"all x.((exists e.(kill(e,x,y) & in(e,rome))) -> should_hang(x))\")#killing in forum very illegal\n",
    "k2 = expr(\"all x.((exists e.(kill(e,x,y))) -> mean(x))\")#killing is mean\n",
    "k3 = expr(\"all x.((exists e.(agn(e,x) & ins(e,knife))) -> should_be_lashed(x))\")#using knife is slightly bad\n",
    "k4 = expr(\"all x.((exists e.(loc(e,rubicon) & ins(e,paddle))) -> great(x))\")#using paddle at rubicon is awesome\n",
    "\n",
    "f1 = expr(\"all e.(loc(e,forum) -> in(e, rome))\")\n",
    "f2 = expr(\"all e.(loc(e,rubicon) -> -in(e, rome))\")\n",
    "f3 = expr(\"all e.(stab(e,x,y) -> kill(e,x,y))\")\n",
    "\n",
    "SWK = [k1,k2,k3,k4,f1,f2,f3]"
   ]
  },
  {
   "cell_type": "markdown",
   "metadata": {},
   "source": [
    "The above shared world knowledge (swk) is shared in the sense that each of the two interlocutors \n",
    "1. knows these facts\n",
    "2. knows the other knows them  \n",
    "  \n",
    "  \n",
    "the listener furthermore also  \n",
    "3. knows the speaker knows the listener knows them\n",
    "\n",
    "In contrast, the following beliefs are specifically pertaining to the discussed event and may differ between the two."
   ]
  },
  {
   "cell_type": "code",
   "execution_count": 23,
   "metadata": {},
   "outputs": [],
   "source": [
    "from court import *\n",
    "\n",
    "BELIEFs = [\n",
    "         phrase([brutus, stab, caesar, forum, knife]),#prosecution belief\n",
    "         phrase([brutus, stab, caesar, forum]),\n",
    "         phrase([brutus, stab, caesar, knife]),\n",
    "         phrase([brutus, stab, caesar, forum, knife]),\n",
    "         phrase([brutus, stab, caesar, forum, sword]),\n",
    "         phrase([brutus, stab, caesar, forum, knife]),\n",
    "         phrase([brutus, stab, caesar, rubicon, sword]), \n",
    "         phrase([brutus, stab, caesar, rubicon]), \n",
    "         phrase([brutus, stab, caesar, sword]), \n",
    "         phrase([brutus, stab, caesar, sword, rubicon]),#defense belief\n",
    "         phrase([brutus, stab, caesar, rubicon, knife]), \n",
    "         phrase([brutus, stab, caesar, rubicon, sword]), \n",
    "         phrase([caesar_ag, stab, brutus_pat, forum, knife]),\n",
    "         phrase([brutus, stab, caesar, rubicon, knife, fun]),\n",
    "         phrase([brutus, stab, caesar, rubicon, sword, others, fun]),\n",
    "         phrase([brutus, row, boat, rubicon, paddle]),\n",
    "         phrase([someone_else, stab, caesar, rubicon, knife])\n",
    "      ]\n",
    "\n",
    "def belief_prior(B): #over list\n",
    "    ix = pyro.sample(\"belief\", dist.Categorical(probs=torch.ones(len(B))/len(B)))\n",
    "    return B[ix]\n",
    "\n",
    "# try others (also in combination with different speaker qud below!)\n",
    "listener_belief = BELIEFs[0]\n",
    "speaker_belief = BELIEFs[9]"
   ]
  },
  {
   "cell_type": "markdown",
   "metadata": {},
   "source": [
    "_BELIEFs_ is used to constrain the listener to consider only these possible speaker beliefs so the search space does not become too large.\n",
    "Furthermore, the speaker uses the options in _BELIEFs_ to consider possible corrections.\n",
    "\n",
    "Since both sides use this variable it is therefore important to make the distinction that the actual belief held by the respective sides is the central asymmetric aspect of the project, while the fact that both sides consider only event beliefs in _BELIEFs_ is symmetric.\n",
    "\n",
    "Recall the $k_{1-4}$ which were introduced above; these are the respective conditions for the questions under discussion (QUDs) discussed by our prosecution and defense."
   ]
  },
  {
   "cell_type": "code",
   "execution_count": 24,
   "metadata": {},
   "outputs": [],
   "source": [
    "QUDs = {\n",
    "        \"hang\": expr(\"should_hang(brutus)\"),\n",
    "        \"mean\": expr(\"mean(brutus)\"),\n",
    "        \"lashed\": expr(\"should_be_lashed(brutus)\"),\n",
    "        \"great\": expr(\"great(brutus)\"),\n",
    "}\n",
    "\n",
    "def qud_prior(quds): #over dict\n",
    "    keys = list(quds.keys())\n",
    "    ix = pyro.sample(\"qud\", dist.Categorical(probs=torch.ones(len(keys))/len(keys)))\n",
    "    qud = keys[ix.item()]\n",
    "    return qud"
   ]
  },
  {
   "cell_type": "markdown",
   "metadata": {},
   "source": [
    "---\n",
    "### The RSA Literal Listener\n",
    "\n",
    "We can now turn to the literal listener ($L0$), which begins the chain of inference in the RSA model. $L0$ replaces the utterance in the listener belief according to the role the replacement has, then runs logical inference and finally produces a distribution over _beliefs_ \n",
    "\n",
    "The listener is defined mathematically by:\n",
    "\n",
    "$$P_{L_0}(s|u) \\propto  [[u]](s) \\cdot P(s) $$\n"
   ]
  },
  {
   "cell_type": "code",
   "execution_count": null,
   "metadata": {
    "scrolled": false
   },
   "outputs": [],
   "source": [
    "@Marginal\n",
    "def L0(correction):\n",
    "\n",
    "    interjector_belief=belief_prior(BELIEFs) #belief prior ~ state prior\n",
    "    replacement = listener_belief.replace_constituents_in_utt(correction)\n",
    "    if not type(correction) == NULL_Utt:\n",
    "        added_expr = replacement\n",
    "    else:\n",
    "        added_expr = listener_belief\n",
    "    evaluation = rpc(goal=interjector_belief.L(), assumptions=SWK+[added_expr.L()]).prove()\n",
    "\n",
    "    factor(\"literal meaning\", 0. if evaluation else float(\"-inf\"))\n",
    "    \n",
    "    return interjector_belief\n",
    "\n",
    "correction = phrase([rubicon]) #change to any phrase (see e.g. phrasal.py)\n",
    "\n",
    "l0_dist = L0(correction)\n",
    "\n",
    "#plotting from RSA-hyperbole.ipynb:\n",
    "def plot_dist(d):\n",
    "    support = d.enumerate_support()\n",
    "    data = [d.log_prob(s).exp().item() for s in d.enumerate_support()]\n",
    "    names = support\n",
    "\n",
    "    ax = plt.subplot(111)\n",
    "    width=0.3\n",
    "    bins = list(map(lambda x: x-width/2,range(1,len(data)+1)))\n",
    "    ax.bar(bins,data,width=width)\n",
    "    ax.set_xticks(list(map(lambda x: x, range(1,len(data)+1))))\n",
    "    ax.set_xticklabels(names,rotation=90, rotation_mode=\"anchor\", ha=\"right\")\n",
    "\n",
    "plot_dist(l0_dist)"
   ]
  },
  {
   "cell_type": "markdown",
   "metadata": {},
   "source": [
    "The above plot should show the literal listeners interpretation of the utterance \"At the rubicon.\" (per default).\n",
    "\n",
    "---\n",
    "### The RSA Pragmatic Speaker\n",
    "Is called $S_1$ and considers $L_0$'s interpretation of the utterances in $L_1$'s utterance prior. The utterance prior is reduced for computational tractability to the power set of the difference in assigned roles between the $L_0$ statement and $S_1$'s own belief. So, for example:\n",
    "\n",
    "    <prosecution utterance> \"exists e.agn(e,brutus) & stab(e,brutus,caesar) & pat(e,caesar) & loc(e,forum) & ins(e,knife)\"\n",
    "    <defense belief> \"exists e.agn(e,brutus) & stab(e,brutus,caesar) & pat(e,caesar) & ins(e,sword) & loc(e,rubicon)\"\n",
    "    \n",
    "    <utterance_prior return values>\n",
    "        1. exists e.loc(e,rubicon)\n",
    "        2. exists e.ins(e,sword)\n",
    "        3. exists e.loc(e,rubicon) & ins(e,sword)\n",
    "        4. NULL\n",
    "        \n",
    "  "
   ]
  },
  {
   "cell_type": "code",
   "execution_count": 26,
   "metadata": {},
   "outputs": [],
   "source": [
    "@Memo\n",
    "def utterance_prior(given_full_belief, smoke_utt=False):\n",
    "    \"\"\"\n",
    "\n",
    "    if smoke_utt:\n",
    "        sample from list of mock utterance values stochastically\n",
    "    else:\n",
    "        for all possible beliefs in belief_set:\n",
    "            diff <= intersection of constituents in belief and givenbelief\n",
    "            d <= powerset(diff)\n",
    "        sample from union of all d\n",
    "\n",
    "    \"\"\"\n",
    "    \n",
    "    possible_changers = set()\n",
    "    given_assigned = set(given_full_belief.assed.keys())\n",
    "\n",
    "    if smoke_utt: #reduced utterance prior for easier calculation\n",
    "        possible_changers = [\\\n",
    "                phrase([phrasal.role(\"loc\",\"rubicon\", 1)]),\\\n",
    "                phrase([phrasal.role(\"loc\",\"rubicon\", 1),phrasal.role(\"ins\", \"sword\",1)]),\\\n",
    "                phrase([phrasal.role(\"ins\",\"sword\", 1)]),\\\n",
    "                phrase([NULL_Utt()])]\n",
    "    else:\n",
    "        for belief in BELIEFs:\n",
    "            assigned = set(belief.assed.keys())\n",
    "            if assigned == {\"NULL\"}: #first leave out NULL utterances\n",
    "                possible_changers.add(belief)\n",
    "                continue\n",
    "            diff_roles = [] #collect roles differently or not assigned in given belief\n",
    "            for rol in assigned:\n",
    "                if rol not in given_assigned:\n",
    "                    diff_roles.append(rol)\n",
    "                elif belief.assed[rol] != given_full_belief.assed[rol]:\n",
    "                    diff_roles.append(rol)\n",
    "\n",
    "            diff = [] #collect differing constituents together\n",
    "            for const in belief.elems:\n",
    "                for r in diff_roles:\n",
    "                    if const.field == r:\n",
    "                        diff += [const]\n",
    "            if diff:\n",
    "                d = phrase(diff) #difference in beliefs phrased fully\n",
    "                combos = set(d.sub_utterances())\n",
    "                possible_changers |= combos\n",
    "        possible_changers = list(possible_changers)\n",
    "\n",
    "    assert None not in possible_changers, \"utterance prior incorrect\"\n",
    "\n",
    "    changerLogits = -torch.tensor([phr.cost for phr in possible_changers], dtype=torch.float32)\n",
    "    ix = pyro.sample(\"utterance\",dist.Categorical(logits=changerLogits))\n",
    "    r = possible_changers[ix.item()]\n",
    "    return r"
   ]
  },
  {
   "cell_type": "markdown",
   "metadata": {},
   "source": [
    "_Adapted from RSA-hyperbole.ipynb_\n",
    "\n",
    "---\n",
    "Now we define a version of the RSA speaker that only produces *relevant* information for the literal listener. We define relevance with respect to a Question Under Discussion (QUD) -- this can be thought of as defining the speaker's current attention or topic.\n",
    "\n",
    "The speaker is defined mathematically by:\n",
    "\n",
    "$$P_S(u|b,q) \\propto \\left[ \\sum_{b'} \\delta_{q(b')=q(b)} P_\\text{Lit}(b'|u) p(u) \\right]^\\alpha $$\n",
    "\n",
    "To implement this as a probabilistic program, we start with a helper function `project`, which takes a distribution over some (discrete) domain and a function `qud` on this domain. It creates the push-forward distribution, using `Marginal` (as a Python decorator). The speaker's relevant information is then simply information about the state in this projection."
   ]
  },
  {
   "cell_type": "code",
   "execution_count": 27,
   "metadata": {},
   "outputs": [
    {
     "data": {
      "image/png": "[encoded data removed]",
      "text/plain": [
       "<Figure size 432x288 with 1 Axes>"
      ]
     },
     "metadata": {
      "needs_background": "light"
     },
     "output_type": "display_data"
    }
   ],
   "source": [
    "@Marginal\n",
    "def interject(given_full_belief, qud, own_belief, alpha, smoke_s1=False):\n",
    "    \"\"\"\n",
    "    \n",
    "    Function of: given belief, own belief, qud\n",
    "    \n",
    "    Speaker decides wether to make a correction by inferring literal listener interpretation\n",
    "    based on own question under discussion value\n",
    "    and the opposing side's statement\n",
    "\n",
    "    Args:\n",
    "    \"\"\"\n",
    "\n",
    "    qudSelf = rpc(goal=QUDs[qud], assumptions=SWK+[own_belief.L()]).prove()\n",
    "\n",
    "\n",
    "    with poutine.scale(scale=torch.tensor(float(alpha))):\n",
    "        utterance = utterance_prior(given_full_belief, smoke_utt=smoke_s1)\n",
    "        assert utterance != None\n",
    "\n",
    "        #Construct Listener in head\n",
    "        literal_marginal = L0(utterance)\n",
    "        projected_literal = project(literal_marginal, qud)\n",
    "        \n",
    "        pyro.sample(\"listener\", projected_literal, obs=qudSelf)\n",
    "        \n",
    "    return utterance\n",
    "\n",
    "@Marginal\n",
    "def project(dist,qud):\n",
    "    \"\"\"\n",
    "    projection helper function so a hashingmarginal distribution can be used in interjection inference\n",
    "    the speaker uses this projection to consider whether the literal listeners sampled\n",
    "    interpretation satisfies the speakers QUD\n",
    "    \"\"\"\n",
    "    v = pyro.sample(\"proj\",dist)   \n",
    "    qud_interp = rpc(goal=QUDs[qud],assumptions=SWK+[v.L()]).prove()\n",
    "\n",
    "    return qud_interp\n",
    "\n",
    "#speaker\n",
    "alpha = 1. #try other values!\n",
    "qud = \"hang\"\n",
    "given_belief = listener_belief\n",
    "smoketest = True #if set to False, full utterance prior is computed which takes about 5 times as long as the smoketest\n",
    "\n",
    "s1_info = \"Speaker distribution.\\n\\n- \"+\"Speaker event belief: \"+str(speaker_belief)+\"\\n- \"+\"QUD: \"+str(quds[qud])+\"\\n- alpha = \"+str(alpha)\n",
    "\n",
    "defense_attorney_dist = interject(given_belief, qud, speaker_belief, alpha, smoke_s1=smoketest)\n",
    "plot_dist(defense_attorney_dist)"
   ]
  },
  {
   "cell_type": "markdown",
   "metadata": {},
   "source": []
  },
  {
   "cell_type": "code",
   "execution_count": null,
   "metadata": {},
   "outputs": [],
   "source": []
  },
  {
   "cell_type": "code",
   "execution_count": null,
   "metadata": {},
   "outputs": [],
   "source": []
  },
  {
   "cell_type": "code",
   "execution_count": null,
   "metadata": {},
   "outputs": [],
   "source": []
  },
  {
   "cell_type": "code",
   "execution_count": null,
   "metadata": {},
   "outputs": [],
   "source": []
  }
 ],
 "metadata": {
  "kernelspec": {
   "display_name": "Python 3",
   "language": "python",
   "name": "python3"
  },
  "language_info": {
   "codemirror_mode": {
    "name": "ipython",
    "version": 3
   },
   "file_extension": ".py",
   "mimetype": "text/x-python",
   "name": "python",
   "nbconvert_exporter": "python",
   "pygments_lexer": "ipython3",
   "version": "3.6.8"
  }
 },
 "nbformat": 4,
 "nbformat_minor": 2
}
